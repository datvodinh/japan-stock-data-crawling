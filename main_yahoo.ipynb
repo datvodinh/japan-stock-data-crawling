{
 "cells": [
  {
   "cell_type": "code",
   "execution_count": 1,
   "metadata": {},
   "outputs": [],
   "source": [
    "from src.lib import *\n",
    "from src.GetPriceMarketWatch import *\n",
    "from src.GetPriceMinkabu import *\n",
    "from src.GetPriceYahooJP import *"
   ]
  },
  {
   "cell_type": "code",
   "execution_count": 2,
   "metadata": {},
   "outputs": [],
   "source": [
    "df = pd.read_csv(\"./listing.csv\")"
   ]
  },
  {
   "cell_type": "code",
   "execution_count": 3,
   "metadata": {},
   "outputs": [],
   "source": [
    "# checkpoint to see if this company code have data saved or not\n",
    "listing_market_watch = {}\n",
    "listing_minkabu = {}\n",
    "listing_yahoo = {}"
   ]
  },
  {
   "cell_type": "code",
   "execution_count": 4,
   "metadata": {},
   "outputs": [],
   "source": [
    "for code in list(df['Symbol']):\n",
    "    listing_market_watch[str(code)] = 0\n",
    "    listing_minkabu[str(code)] = 0\n",
    "    listing_yahoo[str(code)] = 0"
   ]
  },
  {
   "cell_type": "code",
   "execution_count": 5,
   "metadata": {},
   "outputs": [],
   "source": [
    "for code in listing_yahoo.keys():\n",
    "    if listing_yahoo[code]==0:\n",
    "        try:\n",
    "            GetDataYahooJP(code)\n",
    "            listing_yahoo[code] = 1\n",
    "        except:\n",
    "            print(f\"{code} dont exist!\")"
   ]
  },
  {
   "cell_type": "code",
   "execution_count": null,
   "metadata": {},
   "outputs": [],
   "source": []
  }
 ],
 "metadata": {
  "kernelspec": {
   "display_name": "selenium_env",
   "language": "python",
   "name": "python3"
  },
  "language_info": {
   "codemirror_mode": {
    "name": "ipython",
    "version": 3
   },
   "file_extension": ".py",
   "mimetype": "text/x-python",
   "name": "python",
   "nbconvert_exporter": "python",
   "pygments_lexer": "ipython3",
   "version": "3.9.16"
  },
  "orig_nbformat": 4
 },
 "nbformat": 4,
 "nbformat_minor": 2
}
