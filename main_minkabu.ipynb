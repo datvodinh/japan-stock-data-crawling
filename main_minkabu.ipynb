{
 "cells": [
  {
   "cell_type": "code",
   "execution_count": 1,
   "metadata": {},
   "outputs": [],
   "source": [
    "from src.lib import *\n",
    "from src.GetPriceMinkabu import *"
   ]
  },
  {
   "cell_type": "code",
   "execution_count": 2,
   "metadata": {},
   "outputs": [],
   "source": [
    "SAVE_PATH = \"G:\\.shortcut-targets-by-id\\1f6y7WUHSF8anBCPQ8AU6kREakdtva1WT\\Price\\Minkabu\""
   ]
  },
  {
   "cell_type": "code",
   "execution_count": 3,
   "metadata": {},
   "outputs": [],
   "source": [
    "df = pd.read_csv(\"./data/Company/listing.csv\")"
   ]
  },
  {
   "cell_type": "code",
   "execution_count": 4,
   "metadata": {},
   "outputs": [],
   "source": [
    "listing_minkabu = {}"
   ]
  },
  {
   "cell_type": "code",
   "execution_count": 5,
   "metadata": {},
   "outputs": [],
   "source": [
    "# checkpoint to see if this company code have data saved or not\n",
    "def LoadProgress():\n",
    "    try:\n",
    "        with open(f\"./data/Company/listing_minkabu.csv\",'r') as f:\n",
    "            list_data = json.load(f)\n",
    "    except:\n",
    "        list_data = {}\n",
    "        for code in list(df['Symbol']):\n",
    "            list_data[str(code)] = 0\n",
    "    return list_data\n",
    "\n"
   ]
  },
  {
   "cell_type": "code",
   "execution_count": 6,
   "metadata": {},
   "outputs": [],
   "source": [
    "listing_minkabu = LoadProgress()"
   ]
  },
  {
   "cell_type": "code",
   "execution_count": 7,
   "metadata": {},
   "outputs": [
    {
     "data": {
      "text/plain": [
       "(3810, 0)"
      ]
     },
     "execution_count": 7,
     "metadata": {},
     "output_type": "execute_result"
    }
   ],
   "source": [
    "len(listing_minkabu),sum(listing_minkabu.values())"
   ]
  },
  {
   "cell_type": "code",
   "execution_count": 8,
   "metadata": {},
   "outputs": [],
   "source": [
    "def SaveProgress(list_data):\n",
    "    with open(f\"./data/Company/listing_minkabu.csv\",'w') as f:\n",
    "        json.dump(list_data,f)"
   ]
  },
  {
   "cell_type": "code",
   "execution_count": 9,
   "metadata": {},
   "outputs": [],
   "source": [
    "def GetData(list_data):\n",
    "    for code in list_data.keys():\n",
    "        if list_data[code]==0:\n",
    "            try:\n",
    "                GetDataMinkabu(code,SAVE_PATH)\n",
    "                list_data[code] = 1\n",
    "            except:\n",
    "                print(f\"{code} dont exist!\")\n",
    "            SaveProgress(list_data)\n",
    "\n"
   ]
  },
  {
   "cell_type": "code",
   "execution_count": 10,
   "metadata": {},
   "outputs": [],
   "source": [
    "GetData(listing_minkabu)\n",
    "GetData(listing_minkabu) #double check"
   ]
  }
 ],
 "metadata": {
  "kernelspec": {
   "display_name": "selenium_env",
   "language": "python",
   "name": "python3"
  },
  "language_info": {
   "codemirror_mode": {
    "name": "ipython",
    "version": 3
   },
   "file_extension": ".py",
   "mimetype": "text/x-python",
   "name": "python",
   "nbconvert_exporter": "python",
   "pygments_lexer": "ipython3",
   "version": "3.9.16"
  },
  "orig_nbformat": 4
 },
 "nbformat": 4,
 "nbformat_minor": 2
}
