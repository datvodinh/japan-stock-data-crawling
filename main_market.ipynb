{
 "cells": [
  {
   "cell_type": "code",
   "execution_count": null,
   "metadata": {},
   "outputs": [],
   "source": [
    "from src.lib import *\n",
    "from src.GetPriceMarketWatch import *"
   ]
  },
  {
   "cell_type": "code",
   "execution_count": null,
   "metadata": {},
   "outputs": [],
   "source": [
    "SAVE_PATH = \"G:\\.shortcut-targets-by-id\\1f6y7WUHSF8anBCPQ8AU6kREakdtva1WT\\Price\\MarketWatch\""
   ]
  },
  {
   "cell_type": "code",
   "execution_count": null,
   "metadata": {},
   "outputs": [],
   "source": [
    "df = pd.read_csv(\"./data/Company/listing.csv\")"
   ]
  },
  {
   "cell_type": "code",
   "execution_count": null,
   "metadata": {},
   "outputs": [],
   "source": [
    "listing_market_watch = {}"
   ]
  },
  {
   "cell_type": "code",
   "execution_count": null,
   "metadata": {},
   "outputs": [],
   "source": [
    "# checkpoint to see if this company code have data saved or not\n",
    "def LoadProgress():\n",
    "    try:\n",
    "        with open(f\"./data/Company/listing_market_watch.csv\",'r') as f:\n",
    "            list_data = json.load(f)\n",
    "    except:\n",
    "        list_data = {}\n",
    "        for code in list(df['Symbol']):\n",
    "            list_data[str(code)] = 0\n",
    "    return list_data\n",
    "\n"
   ]
  },
  {
   "cell_type": "code",
   "execution_count": null,
   "metadata": {},
   "outputs": [],
   "source": [
    "listing_market_watch = LoadProgress()"
   ]
  },
  {
   "cell_type": "code",
   "execution_count": null,
   "metadata": {},
   "outputs": [],
   "source": [
    "len(listing_market_watch),sum(listing_market_watch.values())"
   ]
  },
  {
   "cell_type": "code",
   "execution_count": null,
   "metadata": {},
   "outputs": [],
   "source": [
    "def SaveProgress(list_data):\n",
    "    with open(f\"./data/Company/listing_market_watch.csv\",'w') as f:\n",
    "        json.dump(list_data,f)"
   ]
  },
  {
   "cell_type": "code",
   "execution_count": null,
   "metadata": {},
   "outputs": [],
   "source": [
    "def GetData(list_data):\n",
    "    for code in list_data.keys():\n",
    "        if list_data[code]==0:\n",
    "            try:\n",
    "                GetDataMarketWatch(code,SAVE_PATH)\n",
    "                list_data[code] = 1\n",
    "            except:\n",
    "                print(f\"{code} dont exist!\")\n",
    "            SaveProgress(list_data)\n",
    "\n"
   ]
  },
  {
   "cell_type": "code",
   "execution_count": null,
   "metadata": {},
   "outputs": [],
   "source": [
    "GetData(listing_market_watch)\n",
    "GetData(listing_market_watch) #double check"
   ]
  }
 ],
 "metadata": {
  "kernelspec": {
   "display_name": "selenium_env",
   "language": "python",
   "name": "python3"
  },
  "language_info": {
   "codemirror_mode": {
    "name": "ipython",
    "version": 3
   },
   "file_extension": ".py",
   "mimetype": "text/x-python",
   "name": "python",
   "nbconvert_exporter": "python",
   "pygments_lexer": "ipython3",
   "version": "3.9.16"
  },
  "orig_nbformat": 4
 },
 "nbformat": 4,
 "nbformat_minor": 2
}
