{
 "cells": [
  {
   "cell_type": "code",
   "execution_count": 2,
   "metadata": {},
   "outputs": [],
   "source": [
    "import requests\n",
    "import selenium\n",
    "from selenium import webdriver\n",
    "from selenium.webdriver.common.by import By\n",
    "from selenium.webdriver.chrome.options import Options\n",
    "from selenium.webdriver.chrome.service import Service\n",
    "import time\n",
    "import pandas as pd\n",
    "from bs4 import BeautifulSoup\n",
    "import urllib"
   ]
  },
  {
   "cell_type": "code",
   "execution_count": null,
   "metadata": {},
   "outputs": [],
   "source": [
    "SAVE_PATH = f\"C:/Users/vodin/Documents/Stock-Data-Crawling/data/YahooFinance\""
   ]
  },
  {
   "cell_type": "code",
   "execution_count": 7,
   "metadata": {},
   "outputs": [],
   "source": [
    "chrome_options = Options()\n",
    "chrome_options.add_argument(\"--incognito\")\n",
    "chrome_options.add_argument(\"--window-size=1920x1080\")\n",
    "chrome_options.add_argument(\"--headless\")\n",
    "prefs = {'download.default_directory' : 'C:/Users/vodin/Documents/Stock-Data-Crawling/data/YahooFinance'}\n",
    "chrome_options.add_experimental_option('prefs', prefs)"
   ]
  },
  {
   "cell_type": "code",
   "execution_count": 8,
   "metadata": {},
   "outputs": [],
   "source": [
    "PATH = \"C:\\chromedriver.exe\""
   ]
  },
  {
   "cell_type": "code",
   "execution_count": 43,
   "metadata": {},
   "outputs": [],
   "source": [
    "def GetData(code):\n",
    "    driver = webdriver.Chrome(PATH,options=chrome_options)\n",
    "    URL = f\"https://finance.yahoo.com/quote/{code}.T/history?p={code}.T\"\n",
    "    driver.get(URL)\n",
    "    download_button = driver.find_element(By.XPATH,'//*[@id=\"Col1-1-HistoricalDataTable-Proxy\"]/section/div[1]/div[2]/span[2]/a')\n",
    "    time.sleep(1)\n",
    "    # download_button.click()\n",
    "    link = download_button.get_attribute('href')\n",
    "    new_link = link.replace(link[link.index('period1')+8:link.index('period2')-1],'0')\n",
    "    driver.quit()\n",
    "    PATH_DATA = urllib.request.urlretrieve(new_link)[0]\n",
    "    with open(PATH_DATA,'r') as f:\n",
    "        data = f.read()\n",
    "    data = data.split(\"\\n\")[::-1] \n",
    "    data.insert(0,data.pop(-1))\n",
    "\n",
    "    with open(f'{SAVE_PATH}/{code}.csv','w') as file:\n",
    "        for line in data:\n",
    "            file.write(line)\n",
    "            file.write('\\n')\n",
    "    print(f\"Code: {code} Done!\")"
   ]
  },
  {
   "cell_type": "code",
   "execution_count": 45,
   "metadata": {},
   "outputs": [
    {
     "name": "stderr",
     "output_type": "stream",
     "text": [
      "C:\\Users\\vodin\\AppData\\Local\\Temp\\ipykernel_16624\\725652939.py:2: DeprecationWarning: executable_path has been deprecated, please pass in a Service object\n",
      "  driver = webdriver.Chrome(PATH,options=chrome_options)\n"
     ]
    },
    {
     "name": "stdout",
     "output_type": "stream",
     "text": [
      "Code: 1333 Done!\n"
     ]
    }
   ],
   "source": [
    "GetData('1333')"
   ]
  },
  {
   "cell_type": "code",
   "execution_count": null,
   "metadata": {},
   "outputs": [],
   "source": []
  }
 ],
 "metadata": {
  "kernelspec": {
   "display_name": "selenium_env",
   "language": "python",
   "name": "python3"
  },
  "language_info": {
   "codemirror_mode": {
    "name": "ipython",
    "version": 3
   },
   "file_extension": ".py",
   "mimetype": "text/x-python",
   "name": "python",
   "nbconvert_exporter": "python",
   "pygments_lexer": "ipython3",
   "version": "3.9.16"
  },
  "orig_nbformat": 4
 },
 "nbformat": 4,
 "nbformat_minor": 2
}
