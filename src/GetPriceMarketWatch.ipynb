{
 "cells": [
  {
   "cell_type": "code",
   "execution_count": 2,
   "metadata": {},
   "outputs": [],
   "source": [
    "import urllib"
   ]
  },
  {
   "cell_type": "code",
   "execution_count": 25,
   "metadata": {},
   "outputs": [],
   "source": [
    "code = 7777"
   ]
  },
  {
   "cell_type": "code",
   "execution_count": null,
   "metadata": {},
   "outputs": [],
   "source": [
    "from datetime import date\n",
    "today = date.today()\n",
    "# dd/mm/YY\n",
    "current_date_month = today.strftime(\"%m/%d\")"
   ]
  },
  {
   "cell_type": "code",
   "execution_count": 67,
   "metadata": {},
   "outputs": [
    {
     "name": "stdout",
     "output_type": "stream",
     "text": [
      "['a', 'b', 'c']\n"
     ]
    }
   ],
   "source": [
    "mylist = [\"a\", \"b\", \"a\", \"c\", \"c\"]\n",
    "mylist = list(dict.fromkeys(mylist))\n",
    "print(mylist)"
   ]
  },
  {
   "cell_type": "code",
   "execution_count": 73,
   "metadata": {},
   "outputs": [],
   "source": [
    "def GetData(code): \n",
    "    running = True\n",
    "    year = 2023\n",
    "    list_data = ['Date,Open,High,Low,Close,Volume']\n",
    "    len_old = len(list_data)\n",
    "    while running:\n",
    "        d_start = current_date_month + f'/{year-1}'\n",
    "        d_end = current_date_month + f'/{year}'\n",
    "        link = f\"https://www.marketwatch.com/investing/stock/{code}/downloaddatapartial?startdate={d_start}%2000:00:00&enddate={d_end}%2000:00:00&daterange=d30&frequency=p1d&csvdownload=true&downloadpartial=false&newdates=false&countrycode=jp\"\n",
    "        PATH = urllib.request.urlretrieve(link)[0]\n",
    "        with open(PATH,'r') as f:\n",
    "            data = f.read()\n",
    "        data = data.split(\"\\n\") \n",
    "        data.pop(0)\n",
    "        try:\n",
    "            data.remove(\"\")\n",
    "        except:\n",
    "            pass\n",
    "        list_data+=data\n",
    "        year-=1\n",
    "        print(year)\n",
    "\n",
    "        if len_old == len(list_data):\n",
    "            running = False\n",
    "        else:\n",
    "            len_old = len(list_data)\n",
    "\n",
    "    list_data = list(dict.fromkeys(list_data))\n",
    "    with open(f'C:/Users/vodin/Documents/Stock-Data-Crawling/data/MarketWatch/{code}.csv','w') as file:\n",
    "        for line in list_data:\n",
    "            file.write(line)\n",
    "            file.write('\\n')\n",
    "    print(f\"Code: {code} Done!\")"
   ]
  },
  {
   "cell_type": "code",
   "execution_count": 75,
   "metadata": {},
   "outputs": [
    {
     "name": "stdout",
     "output_type": "stream",
     "text": [
      "2022\n",
      "2021\n",
      "2020\n",
      "2019\n",
      "2018\n",
      "2017\n",
      "2016\n",
      "2015\n",
      "2014\n",
      "2013\n",
      "2012\n",
      "Code: 1333 Done!\n"
     ]
    }
   ],
   "source": [
    "GetData('1333')"
   ]
  },
  {
   "cell_type": "code",
   "execution_count": null,
   "metadata": {},
   "outputs": [],
   "source": []
  }
 ],
 "metadata": {
  "kernelspec": {
   "display_name": "selenium_env",
   "language": "python",
   "name": "python3"
  },
  "language_info": {
   "codemirror_mode": {
    "name": "ipython",
    "version": 3
   },
   "file_extension": ".py",
   "mimetype": "text/x-python",
   "name": "python",
   "nbconvert_exporter": "python",
   "pygments_lexer": "ipython3",
   "version": "3.9.16"
  },
  "orig_nbformat": 4
 },
 "nbformat": 4,
 "nbformat_minor": 2
}
