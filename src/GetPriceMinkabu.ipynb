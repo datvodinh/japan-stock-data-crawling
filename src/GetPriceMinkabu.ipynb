{
 "cells": [
  {
   "cell_type": "code",
   "execution_count": 7,
   "metadata": {},
   "outputs": [],
   "source": [
    "import requests\n",
    "import selenium\n",
    "from selenium import webdriver\n",
    "from selenium.webdriver.common.by import By\n",
    "from selenium.webdriver.chrome.options import Options\n",
    "from selenium.webdriver.chrome.service import Service\n",
    "import time\n",
    "import pandas as pd\n",
    "from bs4 import BeautifulSoup"
   ]
  },
  {
   "cell_type": "code",
   "execution_count": null,
   "metadata": {},
   "outputs": [],
   "source": [
    "SAVE_PATH = f\"C:/Users/vodin/Documents/Stock-Data-Crawling/data/Minkabu\""
   ]
  },
  {
   "cell_type": "code",
   "execution_count": 18,
   "metadata": {},
   "outputs": [],
   "source": [
    "chrome_options = Options()\n",
    "chrome_options.add_argument(\"--incognito\")\n",
    "chrome_options.add_argument(\"--window-size=1920x1080\")\n",
    "chrome_options.add_argument(\"--headless\")"
   ]
  },
  {
   "cell_type": "code",
   "execution_count": 24,
   "metadata": {},
   "outputs": [],
   "source": [
    "code = '5486'"
   ]
  },
  {
   "cell_type": "code",
   "execution_count": 25,
   "metadata": {},
   "outputs": [],
   "source": [
    "PATH = \"C:\\chromedriver.exe\""
   ]
  },
  {
   "cell_type": "code",
   "execution_count": 26,
   "metadata": {},
   "outputs": [],
   "source": [
    "def GetData(code):\n",
    "    URL  = f\"https://minkabu.jp/stock/{code}/daily_bar\"\n",
    "    driver = webdriver.Chrome(PATH,options=chrome_options)\n",
    "    driver.get(URL)\n",
    "    show_more = driver.find_element(By.XPATH,'//*[@id=\"contents\"]/div[3]/div[2]/div/div/p/a')\n",
    "    for i in range(10000):\n",
    "        try:\n",
    "            show_more.click()\n",
    "            time.sleep(0.5)\n",
    "            driver.execute_script(\"window.scrollTo(0, window.scrollY + 300)\")\n",
    "            time.sleep(0.5)\n",
    "        except:\n",
    "            break\n",
    "\n",
    "    # time.sleep(3)\n",
    "    html = driver.page_source\n",
    "    soup = BeautifulSoup(html,'html.parser')\n",
    "    table = soup.select_one(\"#fourvalue_timeline\")\n",
    "    table = pd.read_html(str(table))\n",
    "    table[0].to_csv(f\"{SAVE_PATH}/{code}.csv\")\n",
    "    driver.quit()\n",
    "    # return table"
   ]
  },
  {
   "cell_type": "code",
   "execution_count": 27,
   "metadata": {},
   "outputs": [
    {
     "name": "stderr",
     "output_type": "stream",
     "text": [
      "C:\\Users\\vodin\\AppData\\Local\\Temp\\ipykernel_19780\\2150211214.py:3: DeprecationWarning: executable_path has been deprecated, please pass in a Service object\n",
      "  driver = webdriver.Chrome(PATH,options=chrome_options)\n"
     ]
    }
   ],
   "source": [
    "df = GetData(code)\n",
    "# df[0]"
   ]
  },
  {
   "cell_type": "code",
   "execution_count": null,
   "metadata": {},
   "outputs": [],
   "source": []
  }
 ],
 "metadata": {
  "kernelspec": {
   "display_name": "selenium_env",
   "language": "python",
   "name": "python3"
  },
  "language_info": {
   "codemirror_mode": {
    "name": "ipython",
    "version": 3
   },
   "file_extension": ".py",
   "mimetype": "text/x-python",
   "name": "python",
   "nbconvert_exporter": "python",
   "pygments_lexer": "ipython3",
   "version": "3.9.16"
  },
  "orig_nbformat": 4
 },
 "nbformat": 4,
 "nbformat_minor": 2
}
