{
 "cells": [
  {
   "cell_type": "code",
   "execution_count": 9,
   "metadata": {},
   "outputs": [],
   "source": [
    "import requests\n",
    "from datetime import date\n",
    "from bs4 import BeautifulSoup\n",
    "import pandas as pd\n",
    "today = date.today()"
   ]
  },
  {
   "cell_type": "code",
   "execution_count": 10,
   "metadata": {},
   "outputs": [],
   "source": [
    "code = \"7777\""
   ]
  },
  {
   "cell_type": "code",
   "execution_count": 11,
   "metadata": {},
   "outputs": [],
   "source": [
    "SAVE_PATH = f\"C:/Users/vodin/Documents/Stock-Data-Crawling/data/YahooJP\""
   ]
  },
  {
   "cell_type": "code",
   "execution_count": 12,
   "metadata": {},
   "outputs": [],
   "source": [
    "now = today.strftime(\"%Y%m%d\")"
   ]
  },
  {
   "cell_type": "code",
   "execution_count": 13,
   "metadata": {},
   "outputs": [],
   "source": [
    "def SaveData(df):\n",
    "    df.to_csv(f\"{SAVE_PATH}/{code}.csv\")"
   ]
  },
  {
   "cell_type": "code",
   "execution_count": 14,
   "metadata": {},
   "outputs": [],
   "source": [
    "def FindTableSinglePage(html):\n",
    "    df = pd.read_html(html.text,flavor='bs4',attrs={\"class\":\"_13C_m5Hx _1aNPcH77\"})[0]\n",
    "    return df"
   ]
  },
  {
   "cell_type": "code",
   "execution_count": 15,
   "metadata": {},
   "outputs": [],
   "source": [
    "def GetUrl(page):\n",
    "    return f\"https://finance.yahoo.co.jp/quote/{code}.T/history?from=19500101&to={now}&timeFrame=d&page={page}\""
   ]
  },
  {
   "cell_type": "code",
   "execution_count": 16,
   "metadata": {},
   "outputs": [],
   "source": [
    "def GetData(code):\n",
    "    df_all = pd.DataFrame()\n",
    "    for page in range(1,1000):\n",
    "        try:\n",
    "            URL = GetUrl(page)\n",
    "            html = requests.get(URL)\n",
    "            df_single = FindTableSinglePage(html)\n",
    "            df_all = pd.concat([df_all, df_single], ignore_index=True).reset_index(drop=True)\n",
    "            print(page,end=\" \")\n",
    "        except:\n",
    "            break\n",
    "    \n",
    "    SaveData(df_all)\n"
   ]
  },
  {
   "cell_type": "code",
   "execution_count": 17,
   "metadata": {},
   "outputs": [
    {
     "name": "stdout",
     "output_type": "stream",
     "text": [
      "1 2 3 4 5 6 7 8 9 "
     ]
    }
   ],
   "source": [
    "GetData('5486')"
   ]
  },
  {
   "cell_type": "code",
   "execution_count": null,
   "metadata": {},
   "outputs": [],
   "source": []
  }
 ],
 "metadata": {
  "kernelspec": {
   "display_name": "selenium_env",
   "language": "python",
   "name": "python3"
  },
  "language_info": {
   "codemirror_mode": {
    "name": "ipython",
    "version": 3
   },
   "file_extension": ".py",
   "mimetype": "text/x-python",
   "name": "python",
   "nbconvert_exporter": "python",
   "pygments_lexer": "ipython3",
   "version": "3.9.16"
  },
  "orig_nbformat": 4
 },
 "nbformat": 4,
 "nbformat_minor": 2
}
