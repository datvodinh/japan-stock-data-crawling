{
 "cells": [
  {
   "cell_type": "code",
   "execution_count": null,
   "metadata": {},
   "outputs": [],
   "source": [
    "import requests\n",
    "from datetime import date\n",
    "from bs4 import BeautifulSoup\n",
    "import pandas as pd\n",
    "import time\n",
    "today = date.today()"
   ]
  },
  {
   "cell_type": "code",
   "execution_count": null,
   "metadata": {},
   "outputs": [],
   "source": [
    "SAVE_PATH = f\"C:/Users/vodin/Documents/Stock-Data-Crawling/data/YahooJP\""
   ]
  },
  {
   "cell_type": "code",
   "execution_count": null,
   "metadata": {},
   "outputs": [],
   "source": [
    "past = \"19500101\"\n",
    "now = today.strftime(\"%Y%m%d\")"
   ]
  },
  {
   "cell_type": "code",
   "execution_count": null,
   "metadata": {},
   "outputs": [],
   "source": [
    "def SaveData(df,code):\n",
    "    df.to_csv(f\"{SAVE_PATH}/{code}.csv\")"
   ]
  },
  {
   "cell_type": "code",
   "execution_count": null,
   "metadata": {},
   "outputs": [],
   "source": [
    "def FindTableSinglePage(html):\n",
    "    df = pd.read_html(html.text,flavor='bs4',attrs={\"class\":\"_13C_m5Hx _1aNPcH77\"})[0]\n",
    "    return df"
   ]
  },
  {
   "cell_type": "code",
   "execution_count": null,
   "metadata": {},
   "outputs": [],
   "source": [
    "def GetUrl(page,code):\n",
    "    return f\"https://finance.yahoo.co.jp/quote/{code}.T/history?from={past}&to={now}&timeFrame=d&page={page}\""
   ]
  },
  {
   "cell_type": "code",
   "execution_count": null,
   "metadata": {},
   "outputs": [],
   "source": [
    "def GetRequest(URL):\n",
    "    waiting = True\n",
    "    while waiting: #get again if page isn't respone\n",
    "        try:\n",
    "            html = requests.get(URL)\n",
    "            waiting = False\n",
    "        except:\n",
    "            time.sleep(1)\n",
    "    return html"
   ]
  },
  {
   "cell_type": "code",
   "execution_count": null,
   "metadata": {},
   "outputs": [],
   "source": [
    "def GetData(code):\n",
    "    df_all = pd.DataFrame()\n",
    "    for page in range(1,10000):\n",
    "        URL = GetUrl(page,code)\n",
    "        \n",
    "        html = GetRequest(URL)\n",
    "\n",
    "        try: #get table\n",
    "            df_single = FindTableSinglePage(html)\n",
    "            df_all = pd.concat([df_all, df_single], ignore_index=True).reset_index(drop=True)\n",
    "            print(page,end=\" \")\n",
    "        except:\n",
    "            break\n",
    "    \n",
    "    SaveData(df_all,code)\n"
   ]
  },
  {
   "cell_type": "code",
   "execution_count": null,
   "metadata": {},
   "outputs": [],
   "source": [
    "GetData('5486')"
   ]
  },
  {
   "cell_type": "code",
   "execution_count": null,
   "metadata": {},
   "outputs": [],
   "source": [
    "\"https://finance.yahoo.co.jp/quote/5486.T/history?from=19500101&to=20230101&timeFrame=d&page=1000\""
   ]
  }
 ],
 "metadata": {
  "kernelspec": {
   "display_name": "selenium_env",
   "language": "python",
   "name": "python3"
  },
  "language_info": {
   "codemirror_mode": {
    "name": "ipython",
    "version": 3
   },
   "file_extension": ".py",
   "mimetype": "text/x-python",
   "name": "python",
   "nbconvert_exporter": "python",
   "pygments_lexer": "ipython3",
   "version": "3.9.16"
  },
  "orig_nbformat": 4
 },
 "nbformat": 4,
 "nbformat_minor": 2
}
